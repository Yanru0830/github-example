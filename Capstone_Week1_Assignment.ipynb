This notebook is my first notebook for Course 9 in my Data Scientist certification. It will be used mainly for my capstone project work.
